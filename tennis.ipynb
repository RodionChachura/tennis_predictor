{
 "cells": [
  {
   "cell_type": "code",
   "execution_count": 43,
   "metadata": {},
   "outputs": [
    {
     "name": "stdout",
     "output_type": "stream",
     "text": [
      "<class 'pandas.core.frame.DataFrame'>\n",
      "Index: 20331 entries, 0 to (2017-M-DC-2017-WG-M-SUI-USA-01, Davis Cup WG R1: SUI vs USA)\n",
      "Data columns (total 9 columns):\n",
      "winner_id      18226 non-null object\n",
      "winner_hand    20323 non-null object\n",
      "winner_age     20317 non-null float64\n",
      "winner_rank    20181 non-null float64\n",
      "loser_id       18381 non-null object\n",
      "loser_hand     20316 non-null object\n",
      "loser_age      20290 non-null float64\n",
      "loser_rank     19964 non-null object\n",
      "score          20331 non-null object\n",
      "dtypes: float64(3), object(6)\n",
      "memory usage: 1.6+ MB\n"
     ]
    }
   ],
   "source": [
    "import os\n",
    "import tarfile\n",
    "from six.moves import urllib\n",
    "import pandas as pd\n",
    "\n",
    "TENNIS_DATA_PATH = 'data'\n",
    "\n",
    "TEST_DATA_YEARS = [2016]\n",
    "TRAIN_DATA_YEARS = [2000, 2001, 2002, 2003, 2005, 2006, 2007, 2008, 2009, 2010, 2011, 2012, 2013, 2014, 2015, 2017]\n",
    "\n",
    "TENNIS_COLUMNS = [\n",
    "    'winner_id',\n",
    "    'winner_rank',\n",
    "    'winner_age',\n",
    "    'winner_hand',\n",
    "    'loser_id',\n",
    "    'loser_rank',\n",
    "    'loser_age',\n",
    "    'loser_hand',\n",
    "    'score',\n",
    "]\n",
    "\n",
    "# tourney_id            16399 non-null object\n",
    "# tourney_name          16399 non-null object\n",
    "# surface               16399 non-null object\n",
    "# draw_size             16399 non-null int64\n",
    "# tourney_level         16399 non-null object\n",
    "# tourney_date          16399 non-null int64\n",
    "# match_num             16399 non-null int64\n",
    "# winner_id             16399 non-null int64\n",
    "# winner_seed           6458 non-null float64\n",
    "# winner_entry          1953 non-null object\n",
    "# winner_name           16399 non-null object\n",
    "# winner_hand           16398 non-null object\n",
    "# winner_ht             15891 non-null float64\n",
    "# winner_ioc            16399 non-null object\n",
    "# winner_age            16395 non-null float64\n",
    "# winner_rank           15819 non-null float64\n",
    "# winner_rank_points    15819 non-null float64\n",
    "# loser_id              16399 non-null int64\n",
    "# loser_seed            3508 non-null float64\n",
    "# loser_entry           3182 non-null object\n",
    "# loser_name            16399 non-null object\n",
    "# loser_hand            16399 non-null object\n",
    "# loser_ht              15437 non-null float64\n",
    "# loser_ioc             16399 non-null object\n",
    "# loser_age             16393 non-null float64\n",
    "# loser_rank            15604 non-null float64\n",
    "# loser_rank_points     15604 non-null float64\n",
    "# score                 16399 non-null object\n",
    "# best_of               16399 non-null int64\n",
    "# round                 16399 non-null object\n",
    "# minutes               14584 non-null float64\n",
    "\n",
    "def tennis_data(years, columns=TENNIS_COLUMNS):\n",
    "    data_frames = []\n",
    "    for year in years:\n",
    "        csv_path = os.path.join(TENNIS_DATA_PATH, 'atp_matches_' + str(year) + '.csv')\n",
    "        data_frames.append(pd.read_csv(csv_path, usecols=columns))\n",
    "    \n",
    "    return pd.concat(data_frames)\n",
    "\n",
    "\n",
    "train_data = tennis_data(TRAIN_DATA_YEARS)\n",
    "test_data = tennis_data(TEST_DATA_YEARS)\n",
    "train_data.score\n",
    "train_data.info()"
   ]
  },
  {
   "cell_type": "code",
   "execution_count": 44,
   "metadata": {},
   "outputs": [
    {
     "data": {
      "text/plain": [
       "0.8256849146623383"
      ]
     },
     "execution_count": 44,
     "metadata": {},
     "output_type": "execute_result"
    }
   ],
   "source": [
    "from random import shuffle\n",
    "from math import isnan\n",
    "import re\n",
    "\n",
    "def convert_score(score):\n",
    "    winner_points = 0\n",
    "    loser_points = 0\n",
    "    for couple in score.split():\n",
    "        points = couple.replace('(', ' ').replace(')', ' ').replace('-', ' ').split()\n",
    "#         if (len(points) < 2):\n",
    "#             print(score)\n",
    "#             return 0\n",
    "        points = list(map(int, points))\n",
    "\n",
    "        winner_points += points[0]\n",
    "        loser_points += points[1]\n",
    "        if (len(points) == 3):\n",
    "            if (points[2] > points[0]):\n",
    "                winner_points += points[0] + 2\n",
    "                loser_points += points[2]\n",
    "            else:\n",
    "                winner_points += points[0]\n",
    "                loser_points += points[2]\n",
    "    return winner_points / loser_points if loser_points > 0 else winner_points\n",
    "\n",
    "def to_hand(hand):\n",
    "    if hand == 'R': return 0\n",
    "    if hand == 'L': return 1\n",
    "    if hand == 'U': return 2\n",
    "    return 3\n",
    "\n",
    "def toLists(table):\n",
    "    data = []\n",
    "    labels = []\n",
    "    \n",
    "    pattern = re.compile('^[0|1|2|3|4|5|6|7|8|9|\\-|\\ |\\(|\\)]+$')\n",
    "    for _, row in table.iterrows():\n",
    "        row = dict(row)\n",
    "        \n",
    "        for key, value in row.items():\n",
    "            if 'hand' in key:\n",
    "                row[key] = to_hand(value)\n",
    "\n",
    "        try:\n",
    "            if (pattern.match(row['score']) is False): print(row['score'])\n",
    "            if (pattern.match(row['score']) is False): continue\n",
    "            score = convert_score(row['score'])\n",
    "            if (score == 0): continue\n",
    "        except: continue\n",
    "            \n",
    "        without_score = dict(row)\n",
    "        without_score.pop('score')\n",
    "\n",
    "        if (any(isnan(p) for p in without_score.values())): continue\n",
    "        \n",
    "        new_row = []\n",
    "        winner = row['winner_id']\n",
    "        loser = row['loser_id']\n",
    "        \n",
    "        players = [winner, loser]\n",
    "        if (score < 1):\n",
    "            players = [loser, winner]\n",
    "        shuffle(players)\n",
    "        first, second = players\n",
    "\n",
    "        winner_props = [value for key, value in row.items() if 'winner' in key]\n",
    "        loser_props = [value for key, value in row.items() if 'loser' in key]\n",
    "        \n",
    "        if first != winner:\n",
    "            labels.append(1 / score)\n",
    "            new_row += loser_props\n",
    "            new_row += winner_props\n",
    "        else:\n",
    "            labels.append(score)\n",
    "            new_row += winner_props\n",
    "            new_row += loser_props\n",
    "        \n",
    "        \n",
    "        for key, value in without_score.items():\n",
    "            if 'winner' not in key and 'loser' not in key:\n",
    "                new_row.append(value)\n",
    "                \n",
    "        data.append(new_row)\n",
    "    \n",
    "    return data, labels\n",
    "\n",
    "toLists(train_data)\n",
    "tuned_train_data, tuned_train_labels = toLists(train_data)\n",
    "len(tuned_train_data) / len(train_data)"
   ]
  },
  {
   "cell_type": "code",
   "execution_count": 45,
   "metadata": {},
   "outputs": [
    {
     "data": {
      "text/plain": [
       "RandomForestRegressor(bootstrap=True, criterion='mse', max_depth=None,\n",
       "           max_features='auto', max_leaf_nodes=None,\n",
       "           min_impurity_decrease=0.0, min_impurity_split=None,\n",
       "           min_samples_leaf=1, min_samples_split=2,\n",
       "           min_weight_fraction_leaf=0.0, n_estimators=10, n_jobs=1,\n",
       "           oob_score=False, random_state=42, verbose=0, warm_start=False)"
      ]
     },
     "execution_count": 45,
     "metadata": {},
     "output_type": "execute_result"
    }
   ],
   "source": [
    "from sklearn.ensemble import RandomForestRegressor\n",
    "\n",
    "forest_reg = RandomForestRegressor(random_state=42)\n",
    "forest_reg.fit(tuned_train_data, tuned_train_labels)"
   ]
  },
  {
   "cell_type": "code",
   "execution_count": 46,
   "metadata": {},
   "outputs": [
    {
     "data": {
      "text/plain": [
       "0.6109707686755684"
      ]
     },
     "execution_count": 46,
     "metadata": {},
     "output_type": "execute_result"
    }
   ],
   "source": [
    "tuned_test_data, tuned_test_labels = toLists(test_data)\n",
    "\n",
    "def scores_to_bools(scores):\n",
    "    result = []\n",
    "    for score in scores:\n",
    "        result.append(score > 1)\n",
    "    \n",
    "    return result\n",
    "\n",
    "predictions = forest_reg.predict(tuned_test_data)\n",
    "bool_predictions = scores_to_bools(predictions)\n",
    "\n",
    "bool_labels = scores_to_bools(tuned_test_labels)\n",
    "\n",
    "number_of_good_predictions = 0\n",
    "for prediction, label in zip(bool_predictions, bool_labels):\n",
    "    if prediction == label:\n",
    "        number_of_good_predictions += 1\n",
    "\n",
    "number_of_good_predictions / len(tuned_test_labels)"
   ]
  },
  {
   "cell_type": "code",
   "execution_count": null,
   "metadata": {
    "collapsed": true
   },
   "outputs": [],
   "source": []
  }
 ],
 "metadata": {
  "kernelspec": {
   "display_name": "Python 3",
   "language": "python",
   "name": "python3"
  },
  "language_info": {
   "codemirror_mode": {
    "name": "ipython",
    "version": 3
   },
   "file_extension": ".py",
   "mimetype": "text/x-python",
   "name": "python",
   "nbconvert_exporter": "python",
   "pygments_lexer": "ipython3",
   "version": "3.6.3"
  }
 },
 "nbformat": 4,
 "nbformat_minor": 2
}
